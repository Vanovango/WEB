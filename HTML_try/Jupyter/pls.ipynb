{
 "cells": [
  {
   "cell_type": "markdown",
   "id": "40b442cf-284e-4131-a8bc-aea9a31d9484",
   "metadata": {},
   "source": [
    "Okey, it shuld working!!!"
   ]
  },
  {
   "cell_type": "code",
   "execution_count": 1,
   "id": "d8225dd9-0fd7-4867-a213-5b56c87aef8e",
   "metadata": {},
   "outputs": [
    {
     "name": "stdout",
     "output_type": "stream",
     "text": [
      "Hello Word!\n"
     ]
    }
   ],
   "source": [
    "print(\"Hello Word!\")"
   ]
  },
  {
   "cell_type": "code",
   "execution_count": null,
   "id": "5064cbbe-4d05-4551-8b14-895376b409af",
   "metadata": {},
   "outputs": [],
   "source": []
  }
 ],
 "metadata": {
  "kernelspec": {
   "display_name": "Python 3 (ipykernel)",
   "language": "python",
   "name": "python3"
  },
  "language_info": {
   "codemirror_mode": {
    "name": "ipython",
    "version": 3
   },
   "file_extension": ".py",
   "mimetype": "text/x-python",
   "name": "python",
   "nbconvert_exporter": "python",
   "pygments_lexer": "ipython3",
   "version": "3.9.12"
  }
 },
 "nbformat": 4,
 "nbformat_minor": 5
}
