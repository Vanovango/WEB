{
 "cells": [
  {
   "cell_type": "code",
   "execution_count": 1,
   "id": "2236ba57",
   "metadata": {},
   "outputs": [],
   "source": [
    "#pip3 install ultralytics"
   ]
  },
  {
   "cell_type": "code",
   "execution_count": 1,
   "id": "d2f6cfb9",
   "metadata": {},
   "outputs": [],
   "source": [
    "import ultralytics\n",
    "from ultralytics import YOLO"
   ]
  },
  {
   "cell_type": "code",
   "execution_count": 3,
   "id": "5fb0e5c2",
   "metadata": {},
   "outputs": [
    {
     "name": "stderr",
     "output_type": "stream",
     "text": [
      "Ultralytics YOLOv8.0.105  Python-3.10.11 torch-2.0.1+cpu CPU\n",
      "Setup complete  (4 CPUs, 8.0 GB RAM, 36.9/40.0 GB disk)\n"
     ]
    }
   ],
   "source": [
    "ultralytics.checks()"
   ]
  },
  {
   "cell_type": "code",
   "execution_count": 4,
   "id": "bd88e67c",
   "metadata": {},
   "outputs": [
    {
     "name": "stdout",
     "output_type": "stream",
     "text": [
      "C:\\Users\\IEUser\n"
     ]
    }
   ],
   "source": [
    "import os\n",
    "HOME = os.getcwd()\n",
    "print(HOME)"
   ]
  },
  {
   "cell_type": "code",
   "execution_count": 5,
   "id": "bea6ef08",
   "metadata": {},
   "outputs": [],
   "source": [
    "model = ultralytics.YOLO(\"yolov8n.pt\")  # загрузите предварительно обученную модель YOLOv8n"
   ]
  },
  {
   "cell_type": "code",
   "execution_count": 49,
   "id": "ddc67382",
   "metadata": {},
   "outputs": [
    {
     "name": "stderr",
     "output_type": "stream",
     "text": [
      "\n",
      "Found https:\\ultralytics.com\\images\\bus.jpg locally at bus.jpg\n",
      "image 1/1 C:\\Users\\IEUser\\bus.jpg: 640x480 4 persons, 1 bus, 1 stop sign, 176.3ms\n",
      "Speed: 17.0ms preprocess, 176.3ms inference, 0.0ms postprocess per image at shape (1, 3, 640, 640)\n",
      "\n",
      "image 1/1 C:\\Users\\IEUser\\porsche.jpeg: 384x640 1 car, 120.6ms\n",
      "Speed: 2.6ms preprocess, 120.6ms inference, 0.0ms postprocess per image at shape (1, 3, 640, 640)\n"
     ]
    },
    {
     "name": "stdout",
     "output_type": "stream",
     "text": [
      "tensor([[1.5511e+02, 1.7073e+02, 1.1782e+03, 6.0412e+02, 9.3008e-01, 2.0000e+00]])\n"
     ]
    }
   ],
   "source": [
    "#model.train(data=\"coco128.yaml\")  # обучите модель\n",
    "#model.val()  # оцените производительность модели на наборе проверки\n",
    "results=model.predict(source=\"https://ultralytics.com/images/bus.jpg\")  # предсказать по изображению\n",
    "results1=model.predict(source=\"porsche.jpeg\")  # предсказать по изображению\n",
    "print(results1[0].boxes.data)\n",
    "#results=model.predict(source=\"0\", show=True)  # предсказать по web camera\n",
    "#model.export(format=\"onnx\")  # экспортируйте модель в формат ONNX"
   ]
  },
  {
   "cell_type": "code",
   "execution_count": null,
   "id": "179e381f",
   "metadata": {},
   "outputs": [],
   "source": [
    "#print(type(results[0][3]))\n",
    "print(len(results[0]))\n",
    "print(model.\n",
    "#print(results[0][1])\n",
    "#print(len(results1[0]))\n",
    "#print(ultralytics.yolo.engine.results.Results.plot)"
   ]
  },
  {
   "cell_type": "code",
   "execution_count": 6,
   "id": "1feca8d7",
   "metadata": {},
   "outputs": [],
   "source": [
    "import cv2\n",
    "import numpy as np\n",
    "from PIL import Image\n",
    "import requests\n",
    "from io import BytesIO\n",
    "import cv2"
   ]
  },
  {
   "cell_type": "code",
   "execution_count": 7,
   "id": "95e276ab",
   "metadata": {},
   "outputs": [
    {
     "name": "stdout",
     "output_type": "stream",
     "text": [
      "[ultralytics.yolo.engine.results.Results object with attributes:\n",
      "\n",
      "boxes: ultralytics.yolo.engine.results.Boxes object\n",
      "keypoints: None\n",
      "keys: ['boxes']\n",
      "masks: None\n",
      "names: {0: 'person', 1: 'bicycle', 2: 'car', 3: 'motorcycle', 4: 'airplane', 5: 'bus', 6: 'train', 7: 'truck', 8: 'boat', 9: 'traffic light', 10: 'fire hydrant', 11: 'stop sign', 12: 'parking meter', 13: 'bench', 14: 'bird', 15: 'cat', 16: 'dog', 17: 'horse', 18: 'sheep', 19: 'cow', 20: 'elephant', 21: 'bear', 22: 'zebra', 23: 'giraffe', 24: 'backpack', 25: 'umbrella', 26: 'handbag', 27: 'tie', 28: 'suitcase', 29: 'frisbee', 30: 'skis', 31: 'snowboard', 32: 'sports ball', 33: 'kite', 34: 'baseball bat', 35: 'baseball glove', 36: 'skateboard', 37: 'surfboard', 38: 'tennis racket', 39: 'bottle', 40: 'wine glass', 41: 'cup', 42: 'fork', 43: 'knife', 44: 'spoon', 45: 'bowl', 46: 'banana', 47: 'apple', 48: 'sandwich', 49: 'orange', 50: 'broccoli', 51: 'carrot', 52: 'hot dog', 53: 'pizza', 54: 'donut', 55: 'cake', 56: 'chair', 57: 'couch', 58: 'potted plant', 59: 'bed', 60: 'dining table', 61: 'toilet', 62: 'tv', 63: 'laptop', 64: 'mouse', 65: 'remote', 66: 'keyboard', 67: 'cell phone', 68: 'microwave', 69: 'oven', 70: 'toaster', 71: 'sink', 72: 'refrigerator', 73: 'book', 74: 'clock', 75: 'vase', 76: 'scissors', 77: 'teddy bear', 78: 'hair drier', 79: 'toothbrush'}\n",
      "orig_img: array([[[122, 148, 172],\n",
      "        [120, 146, 170],\n",
      "        [125, 153, 177],\n",
      "        ...,\n",
      "        [157, 170, 184],\n",
      "        [158, 171, 185],\n",
      "        [158, 171, 185]],\n",
      "\n",
      "       [[127, 153, 177],\n",
      "        [124, 150, 174],\n",
      "        [127, 155, 179],\n",
      "        ...,\n",
      "        [158, 171, 185],\n",
      "        [159, 172, 186],\n",
      "        [159, 172, 186]],\n",
      "\n",
      "       [[128, 154, 178],\n",
      "        [126, 152, 176],\n",
      "        [126, 154, 178],\n",
      "        ...,\n",
      "        [158, 171, 185],\n",
      "        [158, 171, 185],\n",
      "        [158, 171, 185]],\n",
      "\n",
      "       ...,\n",
      "\n",
      "       [[185, 185, 191],\n",
      "        [182, 182, 188],\n",
      "        [179, 179, 185],\n",
      "        ...,\n",
      "        [114, 107, 112],\n",
      "        [115, 105, 111],\n",
      "        [116, 106, 112]],\n",
      "\n",
      "       [[157, 157, 163],\n",
      "        [180, 180, 186],\n",
      "        [185, 186, 190],\n",
      "        ...,\n",
      "        [107,  97, 103],\n",
      "        [102,  92,  98],\n",
      "        [108,  98, 104]],\n",
      "\n",
      "       [[112, 112, 118],\n",
      "        [160, 160, 166],\n",
      "        [169, 170, 174],\n",
      "        ...,\n",
      "        [ 99,  89,  95],\n",
      "        [ 96,  86,  92],\n",
      "        [102,  92,  98]]], dtype=uint8)\n",
      "orig_shape: (1080, 810)\n",
      "path: 'C:\\\\Users\\\\IEUser\\\\bus.jpg'\n",
      "probs: None\n",
      "speed: {'preprocess': 6.805181503295898, 'inference': 257.86614418029785, 'postprocess': 0.0}]\n"
     ]
    }
   ],
   "source": [
    "#print(results[0].boxes.data)\n",
    "print(results)\n"
   ]
  },
  {
   "cell_type": "code",
   "execution_count": 8,
   "id": "751ff5b9",
   "metadata": {},
   "outputs": [
    {
     "name": "stdout",
     "output_type": "stream",
     "text": [
      "Currently running servers:\n",
      "http://localhost:8888/?token=692bf131af70bccc51cb5f9afbab3fbd7c0508d86ba8972c :: C:\\Users\\IEUser\n"
     ]
    }
   ],
   "source": [
    "!C:\\Users\\IEUser\\anaconda3\\Scripts\\jupyter notebook list"
   ]
  },
  {
   "cell_type": "code",
   "execution_count": 9,
   "id": "4389ed4d",
   "metadata": {},
   "outputs": [],
   "source": [
    "import cv2"
   ]
  },
  {
   "cell_type": "code",
   "execution_count": 10,
   "id": "cfa941f1",
   "metadata": {},
   "outputs": [],
   "source": [
    "import numpy as np"
   ]
  },
  {
   "cell_type": "code",
   "execution_count": 11,
   "id": "fd89a01b",
   "metadata": {},
   "outputs": [],
   "source": [
    "image=cv2.imread('bus.jpg')"
   ]
  },
  {
   "cell_type": "code",
   "execution_count": 12,
   "id": "99261da4",
   "metadata": {},
   "outputs": [
    {
     "data": {
      "text/plain": [
       "-1"
      ]
     },
     "execution_count": 12,
     "metadata": {},
     "output_type": "execute_result"
    }
   ],
   "source": [
    "cv2.imshow('bus',image)\n",
    "cv2.waitKey(0)# waits for user to press any key (this is necessary to avoid Python kernel form crashing)"
   ]
  },
  {
   "cell_type": "code",
   "execution_count": 13,
   "id": "75ea7ce5",
   "metadata": {},
   "outputs": [],
   "source": [
    "# closing all open windows\n",
    "cv2.destroyAllWindows()"
   ]
  },
  {
   "cell_type": "code",
   "execution_count": 14,
   "id": "4262ff4a",
   "metadata": {},
   "outputs": [
    {
     "name": "stderr",
     "output_type": "stream",
     "text": [
      "\n",
      "0: 640x480 4 persons, 1 bus, 1 stop sign, 198.7ms\n",
      "Speed: 5.2ms preprocess, 198.7ms inference, 0.0ms postprocess per image at shape (1, 3, 640, 640)\n"
     ]
    },
    {
     "data": {
      "text/plain": [
       "-1"
      ]
     },
     "execution_count": 14,
     "metadata": {},
     "output_type": "execute_result"
    }
   ],
   "source": [
    "res = model(image)\n",
    "res_plotted = res[0].plot()\n",
    "cv2.imshow(\"result\", res_plotted)\n",
    "cv2.waitKey(0)"
   ]
  },
  {
   "cell_type": "code",
   "execution_count": 15,
   "id": "589f1232",
   "metadata": {},
   "outputs": [
    {
     "data": {
      "text/plain": [
       "array([[[122, 148, 172],\n",
       "        [120, 146, 170],\n",
       "        [125, 153, 177],\n",
       "        ...,\n",
       "        [157, 170, 184],\n",
       "        [158, 171, 185],\n",
       "        [158, 171, 185]],\n",
       "\n",
       "       [[127, 153, 177],\n",
       "        [124, 150, 174],\n",
       "        [127, 155, 179],\n",
       "        ...,\n",
       "        [158, 171, 185],\n",
       "        [159, 172, 186],\n",
       "        [159, 172, 186]],\n",
       "\n",
       "       [[128, 154, 178],\n",
       "        [126, 152, 176],\n",
       "        [126, 154, 178],\n",
       "        ...,\n",
       "        [158, 171, 185],\n",
       "        [158, 171, 185],\n",
       "        [158, 171, 185]],\n",
       "\n",
       "       ...,\n",
       "\n",
       "       [[185, 185, 191],\n",
       "        [182, 182, 188],\n",
       "        [179, 179, 185],\n",
       "        ...,\n",
       "        [114, 107, 112],\n",
       "        [115, 105, 111],\n",
       "        [116, 106, 112]],\n",
       "\n",
       "       [[157, 157, 163],\n",
       "        [180, 180, 186],\n",
       "        [185, 186, 190],\n",
       "        ...,\n",
       "        [107,  97, 103],\n",
       "        [102,  92,  98],\n",
       "        [108,  98, 104]],\n",
       "\n",
       "       [[112, 112, 118],\n",
       "        [160, 160, 166],\n",
       "        [169, 170, 174],\n",
       "        ...,\n",
       "        [ 99,  89,  95],\n",
       "        [ 96,  86,  92],\n",
       "        [102,  92,  98]]], dtype=uint8)"
      ]
     },
     "execution_count": 15,
     "metadata": {},
     "output_type": "execute_result"
    }
   ],
   "source": [
    "image"
   ]
  },
  {
   "cell_type": "code",
   "execution_count": 16,
   "id": "f041cf1e",
   "metadata": {},
   "outputs": [
    {
     "name": "stderr",
     "output_type": "stream",
     "text": [
      "Ultralytics YOLOv8.0.105  Python-3.10.11 torch-2.0.1+cpu CPU\n",
      "YOLOv8n summary (fused): 168 layers, 3151904 parameters, 0 gradients\n",
      "\n",
      "image 1/1 C:\\Users\\IEUser\\bus.jpg: 640x480 4 persons, 1 bus, 1 stop sign, 216.1ms\n",
      "Speed: 5.2ms preprocess, 216.1ms inference, 4.1ms postprocess per image at shape (1, 3, 640, 640)\n",
      "Results saved to \u001b[1mruns\\detect\\predict3\u001b[0m\n"
     ]
    }
   ],
   "source": [
    "!yolo task=detect mode=predict model=yolov8n.pt source=\"bus.jpg\""
   ]
  },
  {
   "cell_type": "code",
   "execution_count": 17,
   "id": "a47198b8",
   "metadata": {},
   "outputs": [
    {
     "name": "stderr",
     "output_type": "stream",
     "text": [
      "Ultralytics YOLOv8.0.105  Python-3.10.11 torch-2.0.1+cpu CPU\n",
      "YOLOv8n summary (fused): 168 layers, 3151904 parameters, 0 gradients\n",
      "\n",
      "video 1/1 (1/80) C:\\Users\\IEUser\\test.MOV: 384x640 1 person, 2 elephants, 156.6ms\n",
      "video 1/1 (2/80) C:\\Users\\IEUser\\test.MOV: 384x640 1 person, 1 elephant, 171.7ms\n",
      "video 1/1 (3/80) C:\\Users\\IEUser\\test.MOV: 384x640 1 person, 124.9ms\n",
      "video 1/1 (4/80) C:\\Users\\IEUser\\test.MOV: 384x640 1 person, 124.4ms\n",
      "video 1/1 (5/80) C:\\Users\\IEUser\\test.MOV: 384x640 1 person, 125.7ms\n",
      "video 1/1 (6/80) C:\\Users\\IEUser\\test.MOV: 384x640 1 person, 1 elephant, 109.8ms\n",
      "video 1/1 (7/80) C:\\Users\\IEUser\\test.MOV: 384x640 1 person, 110.1ms\n",
      "video 1/1 (8/80) C:\\Users\\IEUser\\test.MOV: 384x640 1 person, 173.0ms\n",
      "video 1/1 (9/80) C:\\Users\\IEUser\\test.MOV: 384x640 1 person, 172.6ms\n",
      "video 1/1 (10/80) C:\\Users\\IEUser\\test.MOV: 384x640 1 person, 1 dog, 125.7ms\n",
      "video 1/1 (11/80) C:\\Users\\IEUser\\test.MOV: 384x640 1 person, 123.6ms\n",
      "video 1/1 (12/80) C:\\Users\\IEUser\\test.MOV: 384x640 1 person, 125.1ms\n",
      "video 1/1 (13/80) C:\\Users\\IEUser\\test.MOV: 384x640 1 person, 124.7ms\n",
      "video 1/1 (14/80) C:\\Users\\IEUser\\test.MOV: 384x640 1 person, 1 dog, 170.9ms\n",
      "video 1/1 (15/80) C:\\Users\\IEUser\\test.MOV: 384x640 1 person, 142.0ms\n",
      "video 1/1 (16/80) C:\\Users\\IEUser\\test.MOV: 384x640 1 person, 124.9ms\n",
      "video 1/1 (17/80) C:\\Users\\IEUser\\test.MOV: 384x640 1 person, 123.8ms\n",
      "video 1/1 (18/80) C:\\Users\\IEUser\\test.MOV: 384x640 1 person, 126.0ms\n",
      "video 1/1 (19/80) C:\\Users\\IEUser\\test.MOV: 384x640 1 person, 141.0ms\n",
      "video 1/1 (20/80) C:\\Users\\IEUser\\test.MOV: 384x640 1 person, 156.2ms\n",
      "video 1/1 (21/80) C:\\Users\\IEUser\\test.MOV: 384x640 1 person, 125.6ms\n",
      "video 1/1 (22/80) C:\\Users\\IEUser\\test.MOV: 384x640 1 person, 124.7ms\n",
      "video 1/1 (23/80) C:\\Users\\IEUser\\test.MOV: 384x640 1 person, 140.5ms\n",
      "video 1/1 (24/80) C:\\Users\\IEUser\\test.MOV: 384x640 1 person, 109.9ms\n",
      "video 1/1 (25/80) C:\\Users\\IEUser\\test.MOV: 384x640 2 persons, 140.3ms\n",
      "video 1/1 (26/80) C:\\Users\\IEUser\\test.MOV: 384x640 2 persons, 140.9ms\n",
      "video 1/1 (27/80) C:\\Users\\IEUser\\test.MOV: 384x640 1 person, 125.4ms\n",
      "video 1/1 (28/80) C:\\Users\\IEUser\\test.MOV: 384x640 1 person, 108.4ms\n",
      "video 1/1 (29/80) C:\\Users\\IEUser\\test.MOV: 384x640 1 person, 108.5ms\n",
      "video 1/1 (30/80) C:\\Users\\IEUser\\test.MOV: 384x640 1 person, 140.5ms\n",
      "video 1/1 (31/80) C:\\Users\\IEUser\\test.MOV: 384x640 1 person, 140.1ms\n",
      "video 1/1 (32/80) C:\\Users\\IEUser\\test.MOV: 384x640 1 person, 203.5ms\n",
      "video 1/1 (33/80) C:\\Users\\IEUser\\test.MOV: 384x640 1 person, 143.4ms\n",
      "video 1/1 (34/80) C:\\Users\\IEUser\\test.MOV: 384x640 1 person, 1 dog, 216.8ms\n",
      "video 1/1 (35/80) C:\\Users\\IEUser\\test.MOV: 384x640 1 person, 1 dog, 163.2ms\n",
      "video 1/1 (36/80) C:\\Users\\IEUser\\test.MOV: 384x640 1 person, 1 dog, 191.4ms\n",
      "video 1/1 (37/80) C:\\Users\\IEUser\\test.MOV: 384x640 1 person, 168.6ms\n",
      "video 1/1 (38/80) C:\\Users\\IEUser\\test.MOV: 384x640 2 persons, 168.7ms\n",
      "video 1/1 (39/80) C:\\Users\\IEUser\\test.MOV: 384x640 1 person, 122.0ms\n",
      "video 1/1 (40/80) C:\\Users\\IEUser\\test.MOV: 384x640 1 person, 129.5ms\n",
      "video 1/1 (41/80) C:\\Users\\IEUser\\test.MOV: 384x640 1 person, 190.7ms\n",
      "video 1/1 (42/80) C:\\Users\\IEUser\\test.MOV: 384x640 1 person, 152.3ms\n",
      "video 1/1 (43/80) C:\\Users\\IEUser\\test.MOV: 384x640 1 person, 125.2ms\n",
      "video 1/1 (44/80) C:\\Users\\IEUser\\test.MOV: 384x640 1 person, 1 dog, 125.1ms\n",
      "video 1/1 (45/80) C:\\Users\\IEUser\\test.MOV: 384x640 1 person, 124.4ms\n",
      "video 1/1 (46/80) C:\\Users\\IEUser\\test.MOV: 384x640 1 person, 125.1ms\n",
      "video 1/1 (47/80) C:\\Users\\IEUser\\test.MOV: 384x640 1 person, 202.7ms\n",
      "video 1/1 (48/80) C:\\Users\\IEUser\\test.MOV: 384x640 1 person, 161.1ms\n",
      "video 1/1 (49/80) C:\\Users\\IEUser\\test.MOV: 384x640 1 person, 155.0ms\n",
      "video 1/1 (50/80) C:\\Users\\IEUser\\test.MOV: 384x640 1 person, 184.0ms\n",
      "video 1/1 (51/80) C:\\Users\\IEUser\\test.MOV: 384x640 1 person, 185.5ms\n",
      "video 1/1 (52/80) C:\\Users\\IEUser\\test.MOV: 384x640 1 person, 170.3ms\n",
      "video 1/1 (53/80) C:\\Users\\IEUser\\test.MOV: 384x640 1 person, 113.8ms\n",
      "video 1/1 (54/80) C:\\Users\\IEUser\\test.MOV: 384x640 1 person, 167.4ms\n",
      "video 1/1 (55/80) C:\\Users\\IEUser\\test.MOV: 384x640 1 person, 153.0ms\n",
      "video 1/1 (56/80) C:\\Users\\IEUser\\test.MOV: 384x640 1 person, 164.0ms\n",
      "video 1/1 (57/80) C:\\Users\\IEUser\\test.MOV: 384x640 1 person, 175.0ms\n",
      "video 1/1 (58/80) C:\\Users\\IEUser\\test.MOV: 384x640 1 person, 180.3ms\n",
      "video 1/1 (59/80) C:\\Users\\IEUser\\test.MOV: 384x640 1 person, 214.4ms\n",
      "video 1/1 (60/80) C:\\Users\\IEUser\\test.MOV: 384x640 1 person, 188.8ms\n",
      "video 1/1 (61/80) C:\\Users\\IEUser\\test.MOV: 384x640 1 person, 203.3ms\n",
      "video 1/1 (62/80) C:\\Users\\IEUser\\test.MOV: 384x640 1 person, 186.2ms\n",
      "video 1/1 (63/80) C:\\Users\\IEUser\\test.MOV: 384x640 1 person, 188.0ms\n",
      "video 1/1 (64/80) C:\\Users\\IEUser\\test.MOV: 384x640 1 person, 238.4ms\n",
      "video 1/1 (65/80) C:\\Users\\IEUser\\test.MOV: 384x640 1 person, 200.3ms\n",
      "video 1/1 (66/80) C:\\Users\\IEUser\\test.MOV: 384x640 1 person, 188.2ms\n",
      "video 1/1 (67/80) C:\\Users\\IEUser\\test.MOV: 384x640 1 person, 196.0ms\n",
      "video 1/1 (68/80) C:\\Users\\IEUser\\test.MOV: 384x640 1 person, 187.6ms\n",
      "video 1/1 (69/80) C:\\Users\\IEUser\\test.MOV: 384x640 1 person, 214.0ms\n",
      "video 1/1 (70/80) C:\\Users\\IEUser\\test.MOV: 384x640 1 person, 188.1ms\n",
      "video 1/1 (71/80) C:\\Users\\IEUser\\test.MOV: 384x640 1 person, 202.9ms\n",
      "video 1/1 (72/80) C:\\Users\\IEUser\\test.MOV: 384x640 1 person, 203.7ms\n",
      "video 1/1 (73/80) C:\\Users\\IEUser\\test.MOV: 384x640 1 person, 218.4ms\n",
      "video 1/1 (74/80) C:\\Users\\IEUser\\test.MOV: 384x640 1 person, 218.7ms\n",
      "video 1/1 (75/80) C:\\Users\\IEUser\\test.MOV: 384x640 1 person, 202.7ms\n",
      "video 1/1 (76/80) C:\\Users\\IEUser\\test.MOV: 384x640 1 person, 202.7ms\n",
      "video 1/1 (77/80) C:\\Users\\IEUser\\test.MOV: 384x640 1 person, 204.0ms\n",
      "video 1/1 (78/80) C:\\Users\\IEUser\\test.MOV: 384x640 1 person, 203.8ms\n",
      "video 1/1 (79/80) C:\\Users\\IEUser\\test.MOV: 384x640 1 person, 140.1ms\n",
      "video 1/1 (80/80) C:\\Users\\IEUser\\test.MOV: 384x640 1 person, 171.1ms\n",
      "Speed: 5.6ms preprocess, 161.0ms inference, 3.2ms postprocess per image at shape (1, 3, 640, 640)\n",
      "Results saved to \u001b[1mruns\\detect\\predict4\u001b[0m\n"
     ]
    }
   ],
   "source": [
    "!yolo task=detect mode=predict model=yolov8n.pt source=\"test.mov\""
   ]
  }
 ],
 "metadata": {
  "kernelspec": {
   "display_name": "Python 3 (ipykernel)",
   "language": "python",
   "name": "python3"
  },
  "language_info": {
   "codemirror_mode": {
    "name": "ipython",
    "version": 3
   },
   "file_extension": ".py",
   "mimetype": "text/x-python",
   "name": "python",
   "nbconvert_exporter": "python",
   "pygments_lexer": "ipython3",
   "version": "3.9.12"
  }
 },
 "nbformat": 4,
 "nbformat_minor": 5
}
